{
 "cells": [
  {
   "cell_type": "code",
   "execution_count": 1,
   "metadata": {},
   "outputs": [],
   "source": [
    "import numpy as np\n",
    "import pandas as pd\n",
    "import matplotlib.pyplot as plt\n",
    "import seaborn as sns\n",
    "from sklearn.model_selection import train_test_split\n",
    "from sklearn.linear_model import LinearRegression\n",
    "from sklearn import metrics\n",
    "%matplotlib inline"
   ]
  },
  {
   "cell_type": "code",
   "execution_count": 2,
   "metadata": {},
   "outputs": [
    {
     "data": {
      "text/html": [
       "<div>\n",
       "<style scoped>\n",
       "    .dataframe tbody tr th:only-of-type {\n",
       "        vertical-align: middle;\n",
       "    }\n",
       "\n",
       "    .dataframe tbody tr th {\n",
       "        vertical-align: top;\n",
       "    }\n",
       "\n",
       "    .dataframe thead th {\n",
       "        text-align: right;\n",
       "    }\n",
       "</style>\n",
       "<table border=\"1\" class=\"dataframe\">\n",
       "  <thead>\n",
       "    <tr style=\"text-align: right;\">\n",
       "      <th></th>\n",
       "      <th>POST_ID</th>\n",
       "      <th>POST_STRING_UNIQUE_ID</th>\n",
       "      <th>CREATED_AT</th>\n",
       "      <th>Creator_Name</th>\n",
       "      <th>Caption</th>\n",
       "      <th>Length</th>\n",
       "      <th>Watch_Views</th>\n",
       "      <th>Total_Watch_time</th>\n",
       "      <th>Average_Watch_time</th>\n",
       "      <th>10_Sec_Watch_Time</th>\n",
       "      <th>...</th>\n",
       "      <th>Execution_Reach</th>\n",
       "      <th>Spammy_Views</th>\n",
       "      <th>Love</th>\n",
       "      <th>Comment</th>\n",
       "      <th>Share</th>\n",
       "      <th>Report_Abuse</th>\n",
       "      <th>Repost_Count</th>\n",
       "      <th>Creation_type</th>\n",
       "      <th>ContentType</th>\n",
       "      <th>LANGUAGE_NAME</th>\n",
       "    </tr>\n",
       "  </thead>\n",
       "  <tbody>\n",
       "    <tr>\n",
       "      <td>0</td>\n",
       "      <td>5251588</td>\n",
       "      <td>ec7e9ef3246874618d617623ee07451c</td>\n",
       "      <td>4/22/2020 19:51</td>\n",
       "      <td>Nojoto News</td>\n",
       "      <td>Know who loved your story | Tag Nojotians #Noj...</td>\n",
       "      <td>51</td>\n",
       "      <td>61196</td>\n",
       "      <td>732610</td>\n",
       "      <td>12.0</td>\n",
       "      <td>584192</td>\n",
       "      <td>...</td>\n",
       "      <td>1000000</td>\n",
       "      <td>28445</td>\n",
       "      <td>1720</td>\n",
       "      <td>108</td>\n",
       "      <td>35</td>\n",
       "      <td>0</td>\n",
       "      <td>73</td>\n",
       "      <td>Uploaded</td>\n",
       "      <td>Video</td>\n",
       "      <td>English</td>\n",
       "    </tr>\n",
       "    <tr>\n",
       "      <td>1</td>\n",
       "      <td>5539448</td>\n",
       "      <td>e38e34aa65c0c7c2ed42426fe92e6419</td>\n",
       "      <td>5/10/2020 18:00</td>\n",
       "      <td>Nojoto News</td>\n",
       "      <td>Details for Day 1 (Monday) :- \\nExpress Karo N...</td>\n",
       "      <td>168</td>\n",
       "      <td>2751</td>\n",
       "      <td>33002</td>\n",
       "      <td>12.0</td>\n",
       "      <td>25716</td>\n",
       "      <td>...</td>\n",
       "      <td>50000</td>\n",
       "      <td>1037</td>\n",
       "      <td>130</td>\n",
       "      <td>10</td>\n",
       "      <td>4</td>\n",
       "      <td>0</td>\n",
       "      <td>17</td>\n",
       "      <td>Uploaded</td>\n",
       "      <td>Video</td>\n",
       "      <td>English</td>\n",
       "    </tr>\n",
       "  </tbody>\n",
       "</table>\n",
       "<p>2 rows × 21 columns</p>\n",
       "</div>"
      ],
      "text/plain": [
       "   POST_ID             POST_STRING_UNIQUE_ID       CREATED_AT Creator_Name  \\\n",
       "0  5251588  ec7e9ef3246874618d617623ee07451c  4/22/2020 19:51  Nojoto News   \n",
       "1  5539448  e38e34aa65c0c7c2ed42426fe92e6419  5/10/2020 18:00  Nojoto News   \n",
       "\n",
       "                                             Caption  Length  Watch_Views  \\\n",
       "0  Know who loved your story | Tag Nojotians #Noj...      51        61196   \n",
       "1  Details for Day 1 (Monday) :- \\nExpress Karo N...     168         2751   \n",
       "\n",
       "   Total_Watch_time  Average_Watch_time  10_Sec_Watch_Time  ...  \\\n",
       "0            732610                12.0             584192  ...   \n",
       "1             33002                12.0              25716  ...   \n",
       "\n",
       "   Execution_Reach  Spammy_Views  Love  Comment  Share  Report_Abuse  \\\n",
       "0          1000000         28445  1720      108     35             0   \n",
       "1            50000          1037   130       10      4             0   \n",
       "\n",
       "   Repost_Count  Creation_type ContentType LANGUAGE_NAME  \n",
       "0            73       Uploaded       Video       English  \n",
       "1            17       Uploaded       Video       English  \n",
       "\n",
       "[2 rows x 21 columns]"
      ]
     },
     "execution_count": 2,
     "metadata": {},
     "output_type": "execute_result"
    }
   ],
   "source": [
    "operation=pd.read_csv('D:\\\\ML\\\\Data set ML algo\\\\RecommendationEngineData_new.csv')\n",
    "operation.head(2)"
   ]
  },
  {
   "cell_type": "code",
   "execution_count": 3,
   "metadata": {},
   "outputs": [
    {
     "data": {
      "text/plain": [
       "(1000, 21)"
      ]
     },
     "execution_count": 3,
     "metadata": {},
     "output_type": "execute_result"
    }
   ],
   "source": [
    "operation.shape"
   ]
  },
  {
   "cell_type": "code",
   "execution_count": 4,
   "metadata": {},
   "outputs": [
    {
     "name": "stdout",
     "output_type": "stream",
     "text": [
      "<class 'pandas.core.frame.DataFrame'>\n",
      "RangeIndex: 1000 entries, 0 to 999\n",
      "Data columns (total 21 columns):\n",
      "POST_ID                  1000 non-null int64\n",
      "POST_STRING_UNIQUE_ID    1000 non-null object\n",
      "CREATED_AT               1000 non-null object\n",
      "Creator_Name             1000 non-null object\n",
      "Caption                  996 non-null object\n",
      "Length                   1000 non-null int64\n",
      "Watch_Views              1000 non-null int64\n",
      "Total_Watch_time         1000 non-null int64\n",
      "Average_Watch_time       1000 non-null float64\n",
      "10_Sec_Watch_Time        1000 non-null int64\n",
      "10_Sec_Views             1000 non-null int64\n",
      "Execution_Reach          1000 non-null int64\n",
      "Spammy_Views             1000 non-null int64\n",
      "Love                     1000 non-null int64\n",
      "Comment                  1000 non-null int64\n",
      "Share                    1000 non-null int64\n",
      "Report_Abuse             1000 non-null int64\n",
      "Repost_Count             1000 non-null int64\n",
      "Creation_type            1000 non-null object\n",
      "ContentType              1000 non-null object\n",
      "LANGUAGE_NAME            1000 non-null object\n",
      "dtypes: float64(1), int64(13), object(7)\n",
      "memory usage: 164.2+ KB\n"
     ]
    }
   ],
   "source": [
    "operation.info()"
   ]
  },
  {
   "cell_type": "code",
   "execution_count": 5,
   "metadata": {},
   "outputs": [
    {
     "data": {
      "text/html": [
       "<div>\n",
       "<style scoped>\n",
       "    .dataframe tbody tr th:only-of-type {\n",
       "        vertical-align: middle;\n",
       "    }\n",
       "\n",
       "    .dataframe tbody tr th {\n",
       "        vertical-align: top;\n",
       "    }\n",
       "\n",
       "    .dataframe thead th {\n",
       "        text-align: right;\n",
       "    }\n",
       "</style>\n",
       "<table border=\"1\" class=\"dataframe\">\n",
       "  <thead>\n",
       "    <tr style=\"text-align: right;\">\n",
       "      <th></th>\n",
       "      <th>POST_ID</th>\n",
       "      <th>Length</th>\n",
       "      <th>Watch_Views</th>\n",
       "      <th>Total_Watch_time</th>\n",
       "      <th>Average_Watch_time</th>\n",
       "      <th>10_Sec_Watch_Time</th>\n",
       "      <th>10_Sec_Views</th>\n",
       "      <th>Execution_Reach</th>\n",
       "      <th>Spammy_Views</th>\n",
       "      <th>Love</th>\n",
       "      <th>Comment</th>\n",
       "      <th>Share</th>\n",
       "      <th>Report_Abuse</th>\n",
       "      <th>Repost_Count</th>\n",
       "    </tr>\n",
       "  </thead>\n",
       "  <tbody>\n",
       "    <tr>\n",
       "      <td>count</td>\n",
       "      <td>1.000000e+03</td>\n",
       "      <td>1000.000000</td>\n",
       "      <td>1000.000000</td>\n",
       "      <td>1.000000e+03</td>\n",
       "      <td>1000.000000</td>\n",
       "      <td>1000.000000</td>\n",
       "      <td>1000.00000</td>\n",
       "      <td>1000.00000</td>\n",
       "      <td>1000.000000</td>\n",
       "      <td>1000.000000</td>\n",
       "      <td>1000.000000</td>\n",
       "      <td>1000.000000</td>\n",
       "      <td>1000.0</td>\n",
       "      <td>1000.000000</td>\n",
       "    </tr>\n",
       "    <tr>\n",
       "      <td>mean</td>\n",
       "      <td>5.238019e+06</td>\n",
       "      <td>104.448000</td>\n",
       "      <td>2846.651000</td>\n",
       "      <td>4.301675e+04</td>\n",
       "      <td>14.165800</td>\n",
       "      <td>35449.142000</td>\n",
       "      <td>984.14100</td>\n",
       "      <td>11383.00000</td>\n",
       "      <td>883.922000</td>\n",
       "      <td>242.542000</td>\n",
       "      <td>39.740000</td>\n",
       "      <td>4.483000</td>\n",
       "      <td>0.0</td>\n",
       "      <td>8.661000</td>\n",
       "    </tr>\n",
       "    <tr>\n",
       "      <td>std</td>\n",
       "      <td>2.590702e+05</td>\n",
       "      <td>87.586384</td>\n",
       "      <td>4599.174397</td>\n",
       "      <td>7.344618e+04</td>\n",
       "      <td>3.929419</td>\n",
       "      <td>61858.176108</td>\n",
       "      <td>1667.32367</td>\n",
       "      <td>33979.30111</td>\n",
       "      <td>1480.606192</td>\n",
       "      <td>229.016141</td>\n",
       "      <td>36.382194</td>\n",
       "      <td>10.604535</td>\n",
       "      <td>0.0</td>\n",
       "      <td>9.156961</td>\n",
       "    </tr>\n",
       "    <tr>\n",
       "      <td>min</td>\n",
       "      <td>1.090611e+06</td>\n",
       "      <td>0.000000</td>\n",
       "      <td>148.000000</td>\n",
       "      <td>1.431000e+03</td>\n",
       "      <td>5.300000</td>\n",
       "      <td>737.000000</td>\n",
       "      <td>29.00000</td>\n",
       "      <td>1000.00000</td>\n",
       "      <td>53.000000</td>\n",
       "      <td>37.000000</td>\n",
       "      <td>0.000000</td>\n",
       "      <td>0.000000</td>\n",
       "      <td>0.0</td>\n",
       "      <td>0.000000</td>\n",
       "    </tr>\n",
       "    <tr>\n",
       "      <td>25%</td>\n",
       "      <td>5.125160e+06</td>\n",
       "      <td>0.000000</td>\n",
       "      <td>755.250000</td>\n",
       "      <td>9.142500e+03</td>\n",
       "      <td>11.375000</td>\n",
       "      <td>6808.500000</td>\n",
       "      <td>214.75000</td>\n",
       "      <td>5000.00000</td>\n",
       "      <td>267.750000</td>\n",
       "      <td>113.000000</td>\n",
       "      <td>14.000000</td>\n",
       "      <td>0.000000</td>\n",
       "      <td>0.0</td>\n",
       "      <td>3.000000</td>\n",
       "    </tr>\n",
       "    <tr>\n",
       "      <td>50%</td>\n",
       "      <td>5.309428e+06</td>\n",
       "      <td>101.000000</td>\n",
       "      <td>1356.500000</td>\n",
       "      <td>1.985050e+04</td>\n",
       "      <td>13.600000</td>\n",
       "      <td>15964.000000</td>\n",
       "      <td>445.50000</td>\n",
       "      <td>5000.00000</td>\n",
       "      <td>459.000000</td>\n",
       "      <td>168.000000</td>\n",
       "      <td>28.000000</td>\n",
       "      <td>1.000000</td>\n",
       "      <td>0.0</td>\n",
       "      <td>6.000000</td>\n",
       "    </tr>\n",
       "    <tr>\n",
       "      <td>75%</td>\n",
       "      <td>5.399322e+06</td>\n",
       "      <td>180.250000</td>\n",
       "      <td>2873.750000</td>\n",
       "      <td>4.339400e+04</td>\n",
       "      <td>16.300000</td>\n",
       "      <td>35946.000000</td>\n",
       "      <td>964.00000</td>\n",
       "      <td>10000.00000</td>\n",
       "      <td>868.250000</td>\n",
       "      <td>277.250000</td>\n",
       "      <td>55.000000</td>\n",
       "      <td>4.000000</td>\n",
       "      <td>0.0</td>\n",
       "      <td>12.000000</td>\n",
       "    </tr>\n",
       "    <tr>\n",
       "      <td>max</td>\n",
       "      <td>5.540220e+06</td>\n",
       "      <td>320.000000</td>\n",
       "      <td>61196.000000</td>\n",
       "      <td>1.058837e+06</td>\n",
       "      <td>31.700000</td>\n",
       "      <td>929662.000000</td>\n",
       "      <td>21149.00000</td>\n",
       "      <td>1000000.00000</td>\n",
       "      <td>28445.000000</td>\n",
       "      <td>2657.000000</td>\n",
       "      <td>283.000000</td>\n",
       "      <td>150.000000</td>\n",
       "      <td>0.0</td>\n",
       "      <td>91.000000</td>\n",
       "    </tr>\n",
       "  </tbody>\n",
       "</table>\n",
       "</div>"
      ],
      "text/plain": [
       "            POST_ID       Length   Watch_Views  Total_Watch_time  \\\n",
       "count  1.000000e+03  1000.000000   1000.000000      1.000000e+03   \n",
       "mean   5.238019e+06   104.448000   2846.651000      4.301675e+04   \n",
       "std    2.590702e+05    87.586384   4599.174397      7.344618e+04   \n",
       "min    1.090611e+06     0.000000    148.000000      1.431000e+03   \n",
       "25%    5.125160e+06     0.000000    755.250000      9.142500e+03   \n",
       "50%    5.309428e+06   101.000000   1356.500000      1.985050e+04   \n",
       "75%    5.399322e+06   180.250000   2873.750000      4.339400e+04   \n",
       "max    5.540220e+06   320.000000  61196.000000      1.058837e+06   \n",
       "\n",
       "       Average_Watch_time  10_Sec_Watch_Time  10_Sec_Views  Execution_Reach  \\\n",
       "count         1000.000000        1000.000000    1000.00000       1000.00000   \n",
       "mean            14.165800       35449.142000     984.14100      11383.00000   \n",
       "std              3.929419       61858.176108    1667.32367      33979.30111   \n",
       "min              5.300000         737.000000      29.00000       1000.00000   \n",
       "25%             11.375000        6808.500000     214.75000       5000.00000   \n",
       "50%             13.600000       15964.000000     445.50000       5000.00000   \n",
       "75%             16.300000       35946.000000     964.00000      10000.00000   \n",
       "max             31.700000      929662.000000   21149.00000    1000000.00000   \n",
       "\n",
       "       Spammy_Views         Love      Comment        Share  Report_Abuse  \\\n",
       "count   1000.000000  1000.000000  1000.000000  1000.000000        1000.0   \n",
       "mean     883.922000   242.542000    39.740000     4.483000           0.0   \n",
       "std     1480.606192   229.016141    36.382194    10.604535           0.0   \n",
       "min       53.000000    37.000000     0.000000     0.000000           0.0   \n",
       "25%      267.750000   113.000000    14.000000     0.000000           0.0   \n",
       "50%      459.000000   168.000000    28.000000     1.000000           0.0   \n",
       "75%      868.250000   277.250000    55.000000     4.000000           0.0   \n",
       "max    28445.000000  2657.000000   283.000000   150.000000           0.0   \n",
       "\n",
       "       Repost_Count  \n",
       "count   1000.000000  \n",
       "mean       8.661000  \n",
       "std        9.156961  \n",
       "min        0.000000  \n",
       "25%        3.000000  \n",
       "50%        6.000000  \n",
       "75%       12.000000  \n",
       "max       91.000000  "
      ]
     },
     "execution_count": 5,
     "metadata": {},
     "output_type": "execute_result"
    }
   ],
   "source": [
    "operation.describe()"
   ]
  },
  {
   "cell_type": "code",
   "execution_count": 6,
   "metadata": {},
   "outputs": [],
   "source": [
    "#What should be the top 10 content"
   ]
  },
  {
   "cell_type": "code",
   "execution_count": 7,
   "metadata": {},
   "outputs": [],
   "source": [
    "from sklearn import preprocessing\n"
   ]
  },
  {
   "cell_type": "code",
   "execution_count": 8,
   "metadata": {},
   "outputs": [],
   "source": [
    "scaler =preprocessing.MinMaxScaler()"
   ]
  },
  {
   "cell_type": "code",
   "execution_count": 9,
   "metadata": {},
   "outputs": [],
   "source": [
    "operation['w_views']=scaler.fit_transform(operation[['Watch_Views']])"
   ]
  },
  {
   "cell_type": "code",
   "execution_count": 10,
   "metadata": {},
   "outputs": [],
   "source": [
    "operation['a_v_t']=scaler.fit_transform(operation[['Average_Watch_time']])"
   ]
  },
  {
   "cell_type": "code",
   "execution_count": 11,
   "metadata": {},
   "outputs": [],
   "source": [
    "operation['10_s_v']=scaler.fit_transform(operation[['10_Sec_Views']])"
   ]
  },
  {
   "cell_type": "code",
   "execution_count": 12,
   "metadata": {},
   "outputs": [],
   "source": [
    "operation['E_R']=scaler.fit_transform(operation[['Execution_Reach']])"
   ]
  },
  {
   "cell_type": "code",
   "execution_count": 13,
   "metadata": {},
   "outputs": [],
   "source": [
    "operation['S_V']=scaler.fit_transform(operation[['Spammy_Views']])"
   ]
  },
  {
   "cell_type": "code",
   "execution_count": 14,
   "metadata": {},
   "outputs": [],
   "source": [
    "operation['lv']=scaler.fit_transform(operation[['Love']])"
   ]
  },
  {
   "cell_type": "code",
   "execution_count": 15,
   "metadata": {},
   "outputs": [],
   "source": [
    "operation['cmt']=scaler.fit_transform(operation[['Comment']])"
   ]
  },
  {
   "cell_type": "code",
   "execution_count": 16,
   "metadata": {},
   "outputs": [],
   "source": [
    "operation['sh']=scaler.fit_transform(operation[['Share']])"
   ]
  },
  {
   "cell_type": "code",
   "execution_count": 17,
   "metadata": {},
   "outputs": [],
   "source": [
    "operation['R_C']=scaler.fit_transform(operation[['Repost_Count']])"
   ]
  },
  {
   "cell_type": "code",
   "execution_count": 18,
   "metadata": {},
   "outputs": [],
   "source": [
    "operation['R_A']=scaler.fit_transform(operation[['Report_Abuse']])"
   ]
  },
  {
   "cell_type": "code",
   "execution_count": 19,
   "metadata": {},
   "outputs": [],
   "source": [
    "operation['score']=operation['w_views']+operation['a_v_t']+operation['10_s_v']+\\\n",
    "operation['E_R']-operation['S_V']+operation['lv']+operation['cmt']+\\\n",
    "operation['sh']+operation['R_C']-operation['R_A']"
   ]
  },
  {
   "cell_type": "code",
   "execution_count": 20,
   "metadata": {},
   "outputs": [],
   "source": [
    "top_20=operation.sort_values('score',ascending=False).head(20)"
   ]
  },
  {
   "cell_type": "code",
   "execution_count": 21,
   "metadata": {},
   "outputs": [],
   "source": [
    "import matplotlib.pyplot as plt"
   ]
  },
  {
   "cell_type": "code",
   "execution_count": 22,
   "metadata": {},
   "outputs": [
    {
     "data": {
      "text/plain": [
       "<Figure size 1000x600 with 0 Axes>"
      ]
     },
     "execution_count": 22,
     "metadata": {},
     "output_type": "execute_result"
    },
    {
     "data": {
      "text/plain": [
       "<Figure size 1000x600 with 0 Axes>"
      ]
     },
     "metadata": {},
     "output_type": "display_data"
    }
   ],
   "source": [
    "plt.figure(figsize=(10,6),dpi=100)"
   ]
  },
  {
   "cell_type": "code",
   "execution_count": 23,
   "metadata": {},
   "outputs": [
    {
     "data": {
      "text/plain": [
       "(array([ 0,  1,  2,  3,  4,  5,  6,  7,  8,  9, 10, 11, 12, 13, 14, 15, 16,\n",
       "        17, 18, 19]), <a list of 20 Text xticklabel objects>)"
      ]
     },
     "execution_count": 23,
     "metadata": {},
     "output_type": "execute_result"
    },
    {
     "data": {
      "image/png": "[encoded data removed]",
      "text/plain": [
       "<Figure size 432x288 with 1 Axes>"
      ]
     },
     "metadata": {
      "needs_background": "light"
     },
     "output_type": "display_data"
    }
   ],
   "source": [
    "sns.barplot(x='POST_ID',y='score',data=top_20,\n",
    "           order=top_20.sort_values(by='CREATED_AT',ascending=False)['POST_ID'])\n",
    "plt.grid()\n",
    "plt.title('Top 20 post order ')\n",
    "plt.xticks(rotation=90)"
   ]
  },
  {
   "cell_type": "code",
   "execution_count": 24,
   "metadata": {},
   "outputs": [],
   "source": [
    "top_10 = operation[operation.POST_ID.isin(top_20.sort_values(by = 'CREATED_AT', ascending = False).head(10)['POST_ID']\\\n",
    "                                .to_list())]"
   ]
  },
  {
   "cell_type": "code",
   "execution_count": 25,
   "metadata": {},
   "outputs": [
    {
     "data": {
      "text/html": [
       "<div>\n",
       "<style scoped>\n",
       "    .dataframe tbody tr th:only-of-type {\n",
       "        vertical-align: middle;\n",
       "    }\n",
       "\n",
       "    .dataframe tbody tr th {\n",
       "        vertical-align: top;\n",
       "    }\n",
       "\n",
       "    .dataframe thead th {\n",
       "        text-align: right;\n",
       "    }\n",
       "</style>\n",
       "<table border=\"1\" class=\"dataframe\">\n",
       "  <thead>\n",
       "    <tr style=\"text-align: right;\">\n",
       "      <th></th>\n",
       "      <th>POST_ID</th>\n",
       "      <th>POST_STRING_UNIQUE_ID</th>\n",
       "      <th>CREATED_AT</th>\n",
       "      <th>Creator_Name</th>\n",
       "      <th>Caption</th>\n",
       "      <th>Length</th>\n",
       "      <th>Watch_Views</th>\n",
       "      <th>Total_Watch_time</th>\n",
       "      <th>Average_Watch_time</th>\n",
       "      <th>10_Sec_Watch_Time</th>\n",
       "      <th>10_Sec_Views</th>\n",
       "      <th>Execution_Reach</th>\n",
       "      <th>Spammy_Views</th>\n",
       "      <th>Love</th>\n",
       "      <th>Comment</th>\n",
       "      <th>Share</th>\n",
       "      <th>Report_Abuse</th>\n",
       "      <th>Repost_Count</th>\n",
       "    </tr>\n",
       "  </thead>\n",
       "  <tbody>\n",
       "    <tr>\n",
       "      <td>0</td>\n",
       "      <td>5251588</td>\n",
       "      <td>ec7e9ef3246874618d617623ee07451c</td>\n",
       "      <td>4/22/2020 19:51</td>\n",
       "      <td>Nojoto News</td>\n",
       "      <td>Know who loved your story | Tag Nojotians #Noj...</td>\n",
       "      <td>51</td>\n",
       "      <td>61196</td>\n",
       "      <td>732610</td>\n",
       "      <td>12.0</td>\n",
       "      <td>584192</td>\n",
       "      <td>21149</td>\n",
       "      <td>1000000</td>\n",
       "      <td>28445</td>\n",
       "      <td>1720</td>\n",
       "      <td>108</td>\n",
       "      <td>35</td>\n",
       "      <td>0</td>\n",
       "      <td>73</td>\n",
       "    </tr>\n",
       "    <tr>\n",
       "      <td>1</td>\n",
       "      <td>5476527</td>\n",
       "      <td>be65e3d72d5e21b5d2b324adf5d08730</td>\n",
       "      <td>5/6/2020 11:15</td>\n",
       "      <td>कवि राहुल पाल</td>\n",
       "      <td>Old Man - Lost Smile\\n#StoryOnline \\n#nojotofi...</td>\n",
       "      <td>187</td>\n",
       "      <td>1901</td>\n",
       "      <td>40310</td>\n",
       "      <td>21.2</td>\n",
       "      <td>35967</td>\n",
       "      <td>776</td>\n",
       "      <td>10000</td>\n",
       "      <td>668</td>\n",
       "      <td>336</td>\n",
       "      <td>209</td>\n",
       "      <td>8</td>\n",
       "      <td>0</td>\n",
       "      <td>51</td>\n",
       "    </tr>\n",
       "    <tr>\n",
       "      <td>2</td>\n",
       "      <td>5379364</td>\n",
       "      <td>6e44130461633f7b43456469c6355703</td>\n",
       "      <td>4/30/2020 14:00</td>\n",
       "      <td>Nojoto News</td>\n",
       "      <td>अभी तो बस ज़िन्दगी के सेट से पैकअप हुआ है। हिम...</td>\n",
       "      <td>67</td>\n",
       "      <td>10808</td>\n",
       "      <td>138849</td>\n",
       "      <td>12.8</td>\n",
       "      <td>111024</td>\n",
       "      <td>3418</td>\n",
       "      <td>50000</td>\n",
       "      <td>3444</td>\n",
       "      <td>716</td>\n",
       "      <td>115</td>\n",
       "      <td>107</td>\n",
       "      <td>0</td>\n",
       "      <td>42</td>\n",
       "    </tr>\n",
       "    <tr>\n",
       "      <td>3</td>\n",
       "      <td>5244171</td>\n",
       "      <td>fb6d818f7bf2bd153c69897b8f299ce0</td>\n",
       "      <td>4/22/2020 12:19</td>\n",
       "      <td>कवि राहुल पाल</td>\n",
       "      <td>#MessageForModi\\ncomedy -only for fun \\nनिवेदन...</td>\n",
       "      <td>236</td>\n",
       "      <td>19197</td>\n",
       "      <td>483765</td>\n",
       "      <td>25.2</td>\n",
       "      <td>436495</td>\n",
       "      <td>8274</td>\n",
       "      <td>50000</td>\n",
       "      <td>4965</td>\n",
       "      <td>1052</td>\n",
       "      <td>283</td>\n",
       "      <td>58</td>\n",
       "      <td>0</td>\n",
       "      <td>65</td>\n",
       "    </tr>\n",
       "    <tr>\n",
       "      <td>4</td>\n",
       "      <td>5069477</td>\n",
       "      <td>679715d4c44fed79150d3ff2e7e601a9</td>\n",
       "      <td>4/12/2020 20:00</td>\n",
       "      <td>Nojoto News</td>\n",
       "      <td>Details for Day 1 (Monday):-\\nExpress Karo Na\\...</td>\n",
       "      <td>128</td>\n",
       "      <td>24508</td>\n",
       "      <td>440849</td>\n",
       "      <td>18.0</td>\n",
       "      <td>383910</td>\n",
       "      <td>10203</td>\n",
       "      <td>80000</td>\n",
       "      <td>8419</td>\n",
       "      <td>917</td>\n",
       "      <td>66</td>\n",
       "      <td>25</td>\n",
       "      <td>0</td>\n",
       "      <td>41</td>\n",
       "    </tr>\n",
       "    <tr>\n",
       "      <td>5</td>\n",
       "      <td>4962465</td>\n",
       "      <td>c92dc007198dbbaa86f3014992fd6bb2</td>\n",
       "      <td>4/6/2020 17:27</td>\n",
       "      <td>Sona Uniyal</td>\n",
       "      <td>#PoetryOnline #SayaniChidiya #SonaUniyal #Mom ...</td>\n",
       "      <td>240</td>\n",
       "      <td>19695</td>\n",
       "      <td>252367</td>\n",
       "      <td>12.8</td>\n",
       "      <td>187444</td>\n",
       "      <td>5642</td>\n",
       "      <td>50000</td>\n",
       "      <td>4841</td>\n",
       "      <td>1045</td>\n",
       "      <td>240</td>\n",
       "      <td>25</td>\n",
       "      <td>0</td>\n",
       "      <td>28</td>\n",
       "    </tr>\n",
       "    <tr>\n",
       "      <td>6</td>\n",
       "      <td>4962650</td>\n",
       "      <td>066ca277b6748b1f230d954463ca6155</td>\n",
       "      <td>4/6/2020 17:39</td>\n",
       "      <td>Nalini</td>\n",
       "      <td>#poetryonline #kinnar #nojotohindi #hindipoetr...</td>\n",
       "      <td>137</td>\n",
       "      <td>16897</td>\n",
       "      <td>244298</td>\n",
       "      <td>14.5</td>\n",
       "      <td>197238</td>\n",
       "      <td>6810</td>\n",
       "      <td>50000</td>\n",
       "      <td>3646</td>\n",
       "      <td>1183</td>\n",
       "      <td>163</td>\n",
       "      <td>35</td>\n",
       "      <td>0</td>\n",
       "      <td>30</td>\n",
       "    </tr>\n",
       "    <tr>\n",
       "      <td>7</td>\n",
       "      <td>4843851</td>\n",
       "      <td>64393f6050389d16e1a6b14c47deffba</td>\n",
       "      <td>3/30/2020 22:10</td>\n",
       "      <td>Sourabh shresth</td>\n",
       "      <td>https://youtu.be/SOzwxVsPx-8  kuch musibat hai...</td>\n",
       "      <td>0</td>\n",
       "      <td>17202</td>\n",
       "      <td>294629</td>\n",
       "      <td>17.1</td>\n",
       "      <td>258439</td>\n",
       "      <td>7879</td>\n",
       "      <td>50000</td>\n",
       "      <td>4753</td>\n",
       "      <td>1309</td>\n",
       "      <td>119</td>\n",
       "      <td>29</td>\n",
       "      <td>0</td>\n",
       "      <td>28</td>\n",
       "    </tr>\n",
       "    <tr>\n",
       "      <td>8</td>\n",
       "      <td>4957718</td>\n",
       "      <td>7ff0cd9c2ba0f07ef312b4a349af9b03</td>\n",
       "      <td>4/6/2020 12:37</td>\n",
       "      <td>NISHU MISHRA</td>\n",
       "      <td>#poetryonline</td>\n",
       "      <td>213</td>\n",
       "      <td>9787</td>\n",
       "      <td>222666</td>\n",
       "      <td>22.8</td>\n",
       "      <td>196749</td>\n",
       "      <td>3991</td>\n",
       "      <td>25000</td>\n",
       "      <td>2687</td>\n",
       "      <td>1057</td>\n",
       "      <td>218</td>\n",
       "      <td>44</td>\n",
       "      <td>0</td>\n",
       "      <td>23</td>\n",
       "    </tr>\n",
       "    <tr>\n",
       "      <td>9</td>\n",
       "      <td>4870768</td>\n",
       "      <td>a4ef677a7c86168732381a337292062e</td>\n",
       "      <td>4/1/2020 13:25</td>\n",
       "      <td>Bhawana Mehra</td>\n",
       "      <td>#StoryOnline #funny #comedy #masti #life #happy</td>\n",
       "      <td>223</td>\n",
       "      <td>11974</td>\n",
       "      <td>265411</td>\n",
       "      <td>22.2</td>\n",
       "      <td>234549</td>\n",
       "      <td>5103</td>\n",
       "      <td>25000</td>\n",
       "      <td>2958</td>\n",
       "      <td>850</td>\n",
       "      <td>158</td>\n",
       "      <td>16</td>\n",
       "      <td>0</td>\n",
       "      <td>23</td>\n",
       "    </tr>\n",
       "  </tbody>\n",
       "</table>\n",
       "</div>"
      ],
      "text/plain": [
       "   POST_ID             POST_STRING_UNIQUE_ID       CREATED_AT  \\\n",
       "0  5251588  ec7e9ef3246874618d617623ee07451c  4/22/2020 19:51   \n",
       "1  5476527  be65e3d72d5e21b5d2b324adf5d08730   5/6/2020 11:15   \n",
       "2  5379364  6e44130461633f7b43456469c6355703  4/30/2020 14:00   \n",
       "3  5244171  fb6d818f7bf2bd153c69897b8f299ce0  4/22/2020 12:19   \n",
       "4  5069477  679715d4c44fed79150d3ff2e7e601a9  4/12/2020 20:00   \n",
       "5  4962465  c92dc007198dbbaa86f3014992fd6bb2   4/6/2020 17:27   \n",
       "6  4962650  066ca277b6748b1f230d954463ca6155   4/6/2020 17:39   \n",
       "7  4843851  64393f6050389d16e1a6b14c47deffba  3/30/2020 22:10   \n",
       "8  4957718  7ff0cd9c2ba0f07ef312b4a349af9b03   4/6/2020 12:37   \n",
       "9  4870768  a4ef677a7c86168732381a337292062e   4/1/2020 13:25   \n",
       "\n",
       "      Creator_Name                                            Caption  Length  \\\n",
       "0      Nojoto News  Know who loved your story | Tag Nojotians #Noj...      51   \n",
       "1    कवि राहुल पाल  Old Man - Lost Smile\\n#StoryOnline \\n#nojotofi...     187   \n",
       "2      Nojoto News  अभी तो बस ज़िन्दगी के सेट से पैकअप हुआ है। हिम...      67   \n",
       "3    कवि राहुल पाल  #MessageForModi\\ncomedy -only for fun \\nनिवेदन...     236   \n",
       "4      Nojoto News  Details for Day 1 (Monday):-\\nExpress Karo Na\\...     128   \n",
       "5      Sona Uniyal  #PoetryOnline #SayaniChidiya #SonaUniyal #Mom ...     240   \n",
       "6           Nalini  #poetryonline #kinnar #nojotohindi #hindipoetr...     137   \n",
       "7  Sourabh shresth  https://youtu.be/SOzwxVsPx-8  kuch musibat hai...       0   \n",
       "8     NISHU MISHRA                                      #poetryonline     213   \n",
       "9    Bhawana Mehra    #StoryOnline #funny #comedy #masti #life #happy     223   \n",
       "\n",
       "   Watch_Views  Total_Watch_time  Average_Watch_time  10_Sec_Watch_Time  \\\n",
       "0        61196            732610                12.0             584192   \n",
       "1         1901             40310                21.2              35967   \n",
       "2        10808            138849                12.8             111024   \n",
       "3        19197            483765                25.2             436495   \n",
       "4        24508            440849                18.0             383910   \n",
       "5        19695            252367                12.8             187444   \n",
       "6        16897            244298                14.5             197238   \n",
       "7        17202            294629                17.1             258439   \n",
       "8         9787            222666                22.8             196749   \n",
       "9        11974            265411                22.2             234549   \n",
       "\n",
       "   10_Sec_Views  Execution_Reach  Spammy_Views  Love  Comment  Share  \\\n",
       "0         21149          1000000         28445  1720      108     35   \n",
       "1           776            10000           668   336      209      8   \n",
       "2          3418            50000          3444   716      115    107   \n",
       "3          8274            50000          4965  1052      283     58   \n",
       "4         10203            80000          8419   917       66     25   \n",
       "5          5642            50000          4841  1045      240     25   \n",
       "6          6810            50000          3646  1183      163     35   \n",
       "7          7879            50000          4753  1309      119     29   \n",
       "8          3991            25000          2687  1057      218     44   \n",
       "9          5103            25000          2958   850      158     16   \n",
       "\n",
       "   Report_Abuse  Repost_Count  \n",
       "0             0            73  \n",
       "1             0            51  \n",
       "2             0            42  \n",
       "3             0            65  \n",
       "4             0            41  \n",
       "5             0            28  \n",
       "6             0            30  \n",
       "7             0            28  \n",
       "8             0            23  \n",
       "9             0            23  "
      ]
     },
     "execution_count": 25,
     "metadata": {},
     "output_type": "execute_result"
    }
   ],
   "source": [
    "\n",
    "top_10.reset_index(drop = True, inplace = True)\n",
    "top_10.iloc[:,0:18]"
   ]
  },
  {
   "cell_type": "code",
   "execution_count": 26,
   "metadata": {},
   "outputs": [
    {
     "data": {
      "text/plain": [
       "<Figure size 3200x1800 with 0 Axes>"
      ]
     },
     "execution_count": 26,
     "metadata": {},
     "output_type": "execute_result"
    },
    {
     "data": {
      "text/plain": [
       "<Figure size 3200x1800 with 0 Axes>"
      ]
     },
     "metadata": {},
     "output_type": "display_data"
    }
   ],
   "source": [
    "plt.figure(figsize=(16,9),dpi=200)"
   ]
  },
  {
   "cell_type": "code",
   "execution_count": 27,
   "metadata": {},
   "outputs": [],
   "source": [
    "correlation_plot=operation[['Watch_Views','Average_Watch_time','10_Sec_Views','Execution_Reach','Spammy_Views','Love','Comment','Share','Repost_Count','Report_Abuse']].corr()"
   ]
  },
  {
   "cell_type": "code",
   "execution_count": 28,
   "metadata": {},
   "outputs": [],
   "source": [
    "mask = np.zeros_like(correlation_plot, dtype=np.bool)"
   ]
  },
  {
   "cell_type": "code",
   "execution_count": 29,
   "metadata": {},
   "outputs": [],
   "source": [
    "mask[np.triu_indices_from(mask)] = True"
   ]
  },
  {
   "cell_type": "code",
   "execution_count": 30,
   "metadata": {},
   "outputs": [
    {
     "data": {
      "image/png": "[encoded data removed]",
      "text/plain": [
       "<Figure size 432x288 with 2 Axes>"
      ]
     },
     "metadata": {
      "needs_background": "light"
     },
     "output_type": "display_data"
    }
   ],
   "source": [
    "sns.heatmap(correlation_plot,\n",
    "            square=False, \n",
    "            linewidth=.1,\n",
    "            vmin=-1,\n",
    "            vmax=1,\n",
    "            cmap='coolwarm',\n",
    "            annot=True,\n",
    "            mask = mask)\n",
    "plt.show()"
   ]
  },
  {
   "cell_type": "code",
   "execution_count": 31,
   "metadata": {},
   "outputs": [],
   "source": [
    "#As shown in the correlation plot above, a lot of these variables are highly correlation with watch views. Thus stating that they're important as metrics in a recommendation system."
   ]
  },
  {
   "cell_type": "markdown",
   "metadata": {},
   "source": [
    "# Cohort analysis::\n",
    "A cohort is a group of people sharing something in common,such as sign up date date to an app, the month of the first purchase,geographical location e.t.c and so on. In cohort analysis we track the these group of user uset over time to identify some pattern and the behaviour. "
   ]
  },
  {
   "cell_type": "code",
   "execution_count": 32,
   "metadata": {},
   "outputs": [],
   "source": [
    "import pandas as pd \n",
    "import numpy as np\n",
    "import matplotlib.pyplot as plt\n",
    "import warnings\n",
    "import seaborn as sns\n",
    "import matplotlib.colors as mcolors"
   ]
  },
  {
   "cell_type": "code",
   "execution_count": 33,
   "metadata": {},
   "outputs": [],
   "source": [
    "df=pd.read_csv('D:\\\\ML\\\\Data set ML algo\\\\retail.csv',encoding= 'unicode_escape',dtype={'CustomerID': str,\n",
    "                          'InvoiceID': str},\n",
    "                   parse_dates=['InvoiceDate'], \n",
    "                   infer_datetime_format=True)"
   ]
  },
  {
   "cell_type": "code",
   "execution_count": 34,
   "metadata": {},
   "outputs": [
    {
     "data": {
      "text/html": [
       "<div>\n",
       "<style scoped>\n",
       "    .dataframe tbody tr th:only-of-type {\n",
       "        vertical-align: middle;\n",
       "    }\n",
       "\n",
       "    .dataframe tbody tr th {\n",
       "        vertical-align: top;\n",
       "    }\n",
       "\n",
       "    .dataframe thead th {\n",
       "        text-align: right;\n",
       "    }\n",
       "</style>\n",
       "<table border=\"1\" class=\"dataframe\">\n",
       "  <thead>\n",
       "    <tr style=\"text-align: right;\">\n",
       "      <th></th>\n",
       "      <th>Invoice</th>\n",
       "      <th>StockCode</th>\n",
       "      <th>Description</th>\n",
       "      <th>Quantity</th>\n",
       "      <th>InvoiceDate</th>\n",
       "      <th>Price</th>\n",
       "      <th>Customer ID</th>\n",
       "      <th>Country</th>\n",
       "    </tr>\n",
       "  </thead>\n",
       "  <tbody>\n",
       "    <tr>\n",
       "      <td>0</td>\n",
       "      <td>536365</td>\n",
       "      <td>85123A</td>\n",
       "      <td>WHITE HANGING HEART T-LIGHT HOLDER</td>\n",
       "      <td>6</td>\n",
       "      <td>2010-12-01 08:26:00</td>\n",
       "      <td>2.55</td>\n",
       "      <td>17850.0</td>\n",
       "      <td>United Kingdom</td>\n",
       "    </tr>\n",
       "    <tr>\n",
       "      <td>1</td>\n",
       "      <td>536365</td>\n",
       "      <td>71053</td>\n",
       "      <td>WHITE METAL LANTERN</td>\n",
       "      <td>6</td>\n",
       "      <td>2010-12-01 08:26:00</td>\n",
       "      <td>3.39</td>\n",
       "      <td>17850.0</td>\n",
       "      <td>United Kingdom</td>\n",
       "    </tr>\n",
       "    <tr>\n",
       "      <td>2</td>\n",
       "      <td>536365</td>\n",
       "      <td>84406B</td>\n",
       "      <td>CREAM CUPID HEARTS COAT HANGER</td>\n",
       "      <td>8</td>\n",
       "      <td>2010-12-01 08:26:00</td>\n",
       "      <td>2.75</td>\n",
       "      <td>17850.0</td>\n",
       "      <td>United Kingdom</td>\n",
       "    </tr>\n",
       "    <tr>\n",
       "      <td>3</td>\n",
       "      <td>536365</td>\n",
       "      <td>84029G</td>\n",
       "      <td>KNITTED UNION FLAG HOT WATER BOTTLE</td>\n",
       "      <td>6</td>\n",
       "      <td>2010-12-01 08:26:00</td>\n",
       "      <td>3.39</td>\n",
       "      <td>17850.0</td>\n",
       "      <td>United Kingdom</td>\n",
       "    </tr>\n",
       "    <tr>\n",
       "      <td>4</td>\n",
       "      <td>536365</td>\n",
       "      <td>84029E</td>\n",
       "      <td>RED WOOLLY HOTTIE WHITE HEART.</td>\n",
       "      <td>6</td>\n",
       "      <td>2010-12-01 08:26:00</td>\n",
       "      <td>3.39</td>\n",
       "      <td>17850.0</td>\n",
       "      <td>United Kingdom</td>\n",
       "    </tr>\n",
       "  </tbody>\n",
       "</table>\n",
       "</div>"
      ],
      "text/plain": [
       "  Invoice StockCode                          Description  Quantity  \\\n",
       "0  536365    85123A   WHITE HANGING HEART T-LIGHT HOLDER         6   \n",
       "1  536365     71053                  WHITE METAL LANTERN         6   \n",
       "2  536365    84406B       CREAM CUPID HEARTS COAT HANGER         8   \n",
       "3  536365    84029G  KNITTED UNION FLAG HOT WATER BOTTLE         6   \n",
       "4  536365    84029E       RED WOOLLY HOTTIE WHITE HEART.         6   \n",
       "\n",
       "          InvoiceDate  Price  Customer ID         Country  \n",
       "0 2010-12-01 08:26:00   2.55      17850.0  United Kingdom  \n",
       "1 2010-12-01 08:26:00   3.39      17850.0  United Kingdom  \n",
       "2 2010-12-01 08:26:00   2.75      17850.0  United Kingdom  \n",
       "3 2010-12-01 08:26:00   3.39      17850.0  United Kingdom  \n",
       "4 2010-12-01 08:26:00   3.39      17850.0  United Kingdom  "
      ]
     },
     "execution_count": 34,
     "metadata": {},
     "output_type": "execute_result"
    }
   ],
   "source": [
    "df.head()"
   ]
  },
  {
   "cell_type": "code",
   "execution_count": 35,
   "metadata": {},
   "outputs": [
    {
     "name": "stdout",
     "output_type": "stream",
     "text": [
      "<class 'pandas.core.frame.DataFrame'>\n",
      "RangeIndex: 541910 entries, 0 to 541909\n",
      "Data columns (total 8 columns):\n",
      "Invoice        541910 non-null object\n",
      "StockCode      541910 non-null object\n",
      "Description    540456 non-null object\n",
      "Quantity       541910 non-null int64\n",
      "InvoiceDate    541910 non-null datetime64[ns]\n",
      "Price          541910 non-null float64\n",
      "Customer ID    406830 non-null float64\n",
      "Country        541910 non-null object\n",
      "dtypes: datetime64[ns](1), float64(2), int64(1), object(4)\n",
      "memory usage: 33.1+ MB\n"
     ]
    }
   ],
   "source": [
    "df.info()"
   ]
  },
  {
   "cell_type": "code",
   "execution_count": 36,
   "metadata": {},
   "outputs": [],
   "source": [
    "df.dropna(subset=['Customer ID'],inplace=True)"
   ]
  },
  {
   "cell_type": "markdown",
   "metadata": {},
   "source": [
    "# EDA is always a very important step of any analysis, as we discover the specifics of the dataset we are working with."
   ]
  },
  {
   "cell_type": "code",
   "execution_count": 37,
   "metadata": {},
   "outputs": [
    {
     "data": {
      "text/html": [
       "<div>\n",
       "<style scoped>\n",
       "    .dataframe tbody tr th:only-of-type {\n",
       "        vertical-align: middle;\n",
       "    }\n",
       "\n",
       "    .dataframe tbody tr th {\n",
       "        vertical-align: top;\n",
       "    }\n",
       "\n",
       "    .dataframe thead th {\n",
       "        text-align: right;\n",
       "    }\n",
       "</style>\n",
       "<table border=\"1\" class=\"dataframe\">\n",
       "  <thead>\n",
       "    <tr style=\"text-align: right;\">\n",
       "      <th></th>\n",
       "      <th>count</th>\n",
       "      <th>mean</th>\n",
       "      <th>std</th>\n",
       "      <th>min</th>\n",
       "      <th>25%</th>\n",
       "      <th>50%</th>\n",
       "      <th>75%</th>\n",
       "      <th>max</th>\n",
       "    </tr>\n",
       "  </thead>\n",
       "  <tbody>\n",
       "    <tr>\n",
       "      <td>Quantity</td>\n",
       "      <td>406830.0</td>\n",
       "      <td>12.061276</td>\n",
       "      <td>248.693065</td>\n",
       "      <td>-80995.0</td>\n",
       "      <td>2.00</td>\n",
       "      <td>5.00</td>\n",
       "      <td>12.00</td>\n",
       "      <td>80995.0</td>\n",
       "    </tr>\n",
       "    <tr>\n",
       "      <td>Price</td>\n",
       "      <td>406830.0</td>\n",
       "      <td>3.460507</td>\n",
       "      <td>69.315080</td>\n",
       "      <td>0.0</td>\n",
       "      <td>1.25</td>\n",
       "      <td>1.95</td>\n",
       "      <td>3.75</td>\n",
       "      <td>38970.0</td>\n",
       "    </tr>\n",
       "    <tr>\n",
       "      <td>Customer ID</td>\n",
       "      <td>406830.0</td>\n",
       "      <td>15287.684160</td>\n",
       "      <td>1713.603074</td>\n",
       "      <td>12346.0</td>\n",
       "      <td>13953.00</td>\n",
       "      <td>15152.00</td>\n",
       "      <td>16791.00</td>\n",
       "      <td>18287.0</td>\n",
       "    </tr>\n",
       "  </tbody>\n",
       "</table>\n",
       "</div>"
      ],
      "text/plain": [
       "                count          mean          std      min       25%       50%  \\\n",
       "Quantity     406830.0     12.061276   248.693065 -80995.0      2.00      5.00   \n",
       "Price        406830.0      3.460507    69.315080      0.0      1.25      1.95   \n",
       "Customer ID  406830.0  15287.684160  1713.603074  12346.0  13953.00  15152.00   \n",
       "\n",
       "                  75%      max  \n",
       "Quantity        12.00  80995.0  \n",
       "Price            3.75  38970.0  \n",
       "Customer ID  16791.00  18287.0  "
      ]
     },
     "execution_count": 37,
     "metadata": {},
     "output_type": "execute_result"
    }
   ],
   "source": [
    "df.describe().transpose()"
   ]
  },
  {
   "cell_type": "markdown",
   "metadata": {},
   "source": [
    "# we calculate an aggregate metric indicating how many orders were placed by each customer."
   ]
  },
  {
   "cell_type": "code",
   "execution_count": 38,
   "metadata": {},
   "outputs": [
    {
     "name": "stdout",
     "output_type": "stream",
     "text": [
      "69.97% of customers ordered more than once.\n"
     ]
    }
   ],
   "source": [
    "n_orders = df.groupby(['Customer ID'])['Invoice'].nunique()\n",
    "\n",
    "mult_orders_perc = np.sum(n_orders > 1) / df['Customer ID'].nunique()\n",
    "print(f'{100 * mult_orders_perc:.2f}% of customers ordered more than once.')"
   ]
  },
  {
   "cell_type": "markdown",
   "metadata": {},
   "source": [
    "# we look at the distribution of the number of orders per customer. For that, we can reuse the previously aggregated data (n_orders) and plot the data on a histogram."
   ]
  },
  {
   "cell_type": "code",
   "execution_count": 39,
   "metadata": {},
   "outputs": [
    {
     "data": {
      "image/png": "[encoded data removed]",
      "text/plain": [
       "<Figure size 432x288 with 1 Axes>"
      ]
     },
     "metadata": {
      "needs_background": "light"
     },
     "output_type": "display_data"
    }
   ],
   "source": [
    "ax = sns.distplot(n_orders, kde=False, hist=True)\n",
    "ax.set(title='Distribution of number of orders per customer',\n",
    "       xlabel='# of orders', \n",
    "       ylabel='# of customers');"
   ]
  },
  {
   "cell_type": "markdown",
   "metadata": {},
   "source": [
    "# As the first step, we keep only the relevant columns and drop duplicated values — one order (indicated by InvoiceNo) can contain multiple items (indicated by StockCode)"
   ]
  },
  {
   "cell_type": "code",
   "execution_count": 40,
   "metadata": {},
   "outputs": [],
   "source": [
    "df = df[['Customer ID', 'Invoice', 'InvoiceDate']].drop_duplicates()"
   ]
  },
  {
   "cell_type": "code",
   "execution_count": 41,
   "metadata": {},
   "outputs": [],
   "source": [
    "df['order_month'] = df['InvoiceDate'].dt.to_period('M')\n",
    "df['cohort'] = df.groupby('Customer ID')['InvoiceDate'] \\\n",
    "                 .transform('min') \\\n",
    "                 .dt.to_period('M') "
   ]
  },
  {
   "cell_type": "markdown",
   "metadata": {},
   "source": [
    "Then, we aggregate the data per cohort and order_month and count the number of unique customers in each group. Additionally, we add the period_number, which indicates the number of periods between the cohort month and the month of the purchas"
   ]
  },
  {
   "cell_type": "code",
   "execution_count": 43,
   "metadata": {},
   "outputs": [],
   "source": [
    "from operator import attrgetter\n",
    "df_cohort = df.groupby(['cohort', 'order_month']) \\\n",
    "              .agg(n_customers=('Customer ID', 'nunique')) \\\n",
    "              .reset_index(drop=False)\n",
    "df_cohort['period_number'] = (df_cohort.order_month - df_cohort.cohort).apply(attrgetter('n'))"
   ]
  },
  {
   "cell_type": "markdown",
   "metadata": {},
   "source": [
    "The next step is to pivot the df_cohort table in a way that each row contains information about a given cohort and each column contains values for a certain period."
   ]
  },
  {
   "cell_type": "code",
   "execution_count": 44,
   "metadata": {},
   "outputs": [],
   "source": [
    "cohort_pivot = df_cohort.pivot_table(index = 'cohort',\n",
    "                                     columns = 'period_number',\n",
    "                                     values = 'n_customers')"
   ]
  },
  {
   "cell_type": "markdown",
   "metadata": {},
   "source": [
    "To obtain the retention matrix, we need to divide the values each row by the row's first value, which is actually the cohort size — all customers who made their first purchase in the given month.\n",
    "\n"
   ]
  },
  {
   "cell_type": "code",
   "execution_count": 45,
   "metadata": {},
   "outputs": [],
   "source": [
    "cohort_size = cohort_pivot.iloc[:,0]\n",
    "retention_matrix = cohort_pivot.divide(cohort_size, axis = 0)"
   ]
  },
  {
   "cell_type": "markdown",
   "metadata": {},
   "source": [
    "we plot the retention matrix as a heatmap. Additionally, we wanted to include extra information regarding the cohort size."
   ]
  },
  {
   "cell_type": "code",
   "execution_count": 47,
   "metadata": {},
   "outputs": [
    {
     "data": {
      "image/png": "[encoded data removed]",
      "text/plain": [
       "<Figure size 864x576 with 3 Axes>"
      ]
     },
     "metadata": {},
     "output_type": "display_data"
    }
   ],
   "source": [
    "with sns.axes_style(\"white\"):\n",
    "    fig, ax = plt.subplots(1, 2, figsize=(12, 8), sharey=True, gridspec_kw={'width_ratios': [1, 11]})\n",
    "    \n",
    "    # retention matrix\n",
    "    sns.heatmap(retention_matrix, \n",
    "                mask=retention_matrix.isnull(), \n",
    "                annot=True, \n",
    "                fmt='.0%', \n",
    "                cmap='RdYlGn', \n",
    "                ax=ax[1])\n",
    "    ax[1].set_title('Monthly Cohorts: User Retention', fontsize=16)\n",
    "    ax[1].set(xlabel='# of periods',\n",
    "              ylabel='')\n",
    "\n",
    "    # cohort size\n",
    "    cohort_size_df = pd.DataFrame(cohort_size).rename(columns={0: 'cohort_size'})\n",
    "    white_cmap = mcolors.ListedColormap(['white'])\n",
    "    sns.heatmap(cohort_size_df, \n",
    "                annot=True, \n",
    "                cbar=False, \n",
    "                fmt='g', \n",
    "                cmap=white_cmap, \n",
    "                ax=ax[0])\n",
    "\n",
    "    fig.tight_layout()"
   ]
  },
  {
   "cell_type": "code",
   "execution_count": null,
   "metadata": {},
   "outputs": [],
   "source": []
  }
 ],
 "metadata": {
  "kernelspec": {
   "display_name": "Python 3",
   "language": "python",
   "name": "python3"
  },
  "language_info": {
   "codemirror_mode": {
    "name": "ipython",
    "version": 3
   },
   "file_extension": ".py",
   "mimetype": "text/x-python",
   "name": "python",
   "nbconvert_exporter": "python",
   "pygments_lexer": "ipython3",
   "version": "3.7.4"
  }
 },
 "nbformat": 4,
 "nbformat_minor": 2
}
